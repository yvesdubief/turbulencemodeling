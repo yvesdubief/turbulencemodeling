{
 "cells": [
  {
   "cell_type": "markdown",
   "metadata": {},
   "source": [
    "# Equations of Turbulence -- Part 1\n",
    "\n",
    "## Einstein notation\n",
    "\n",
    "In fluid dynamics, the manipulation of equations can become tedious, due to the complexity and the number of terms involved in the Navier-Stokes equations and equations of energy. This community has enthusiastically embraced the **Einstein index tensor notation** in which, $d$ being the dimension of the problem $(1,2,3)$,\n",
    "* $a$ defines a scalar (single value) or tensor of rank 0.\n",
    "* $a_i$ defines a vector, or tensor of rank 1, with $d$ components.\n",
    "* $a_{ij}$ defines a matrix, or tensor of rank 2, with $d^2$ components.\n",
    "* $a_{ijk}$ defines a matrix, or tensor of rank 3, with $d^3$ components.\n",
    "* A tensor of rank $n$ has $d^n$ components\n",
    "\n",
    "<div class=\"alert alert-block alert-danger\">\n",
    "    <b>Rule 1:</b> In other words, with Einstein notation, each index can only take the values $1,2$ in 2D and $1,2,3$ in 3D.\n",
    "</div>\n",
    "\n",
    "The genius of Einstein notation is in the following rule:\n",
    "<div class=\"alert alert-block alert-danger\">\n",
    "    <b>Rule 2:</b> If any index repeats <b>twice</b> in a <b>term</b>, summation over all possible values of that index is implied.\n",
    "    </div>\n",
    "\n",
    "A term is a single tensor, a product of tensors, a product of tensor by a function of a tensor, a product of two functions of tensor. It **cannot be** the addition or subtraction of two tensors.\n",
    "    \n",
    "Consider the tensor of rank 2 in 3D:\n",
    "$$\n",
    "a_{ij}=\\left(\\begin{matrix}a_{11} & a_{12} & a_{13}\\\\ \n",
    "a_{21} & a_{22} & a_{23}\\\\\n",
    "a_{31} & a_{32} & a_{33}\\end{matrix}\\right)\n",
    "$$\n",
    "$a_{ii}$ is the trace of the tensor:\n",
    "\n",
    "$$\n",
    "a_{ii}  = a_{11} + a_{22} + a_{33} = \\sum_{i=1,3}a_{ii}\n",
    "$$\n",
    "\n",
    "$a_{ik}b_k$ is the product of tensor $a_{ij}$ by vector $b_i$:\n",
    "\n",
    "$$\n",
    "a_{ik}b_k =\\left(\\begin{matrix}a_{11} & a_{12} & a_{13}\\\\ \n",
    "a_{21} & a_{22} & a_{23}\\\\\n",
    "a_{31} & a_{32} & a_{33}\\end{matrix}\\right)\\left(\\begin{matrix}\n",
    "b_1 \\\\ b_2 \\\\ b_3\\end{matrix}\\right)\n",
    "$$\n",
    "\n",
    "$a_{iiij}$ is in violation of Rule 2, Einstein's index notation rule and therefore is ill-defined.\n",
    "\n",
    "The last rule is one of consistency:\n",
    "<div class=\"alert alert-block alert-danger\">\n",
    "    <b>Rule 3:</b> A tensorial equation using index notation should always be <b>self-consistent</b> with respect to the indices of each term of the equation, unless an additional rule is explicitely specified. \n",
    "    </div>\n",
    "    \n",
    "The simple equation $a_i=b_j$ is ill-defined. In 2D, does it mean $(a_1=b_1,a_2=b_2)$ or $(a_1=b_2,a_2=b_1)$? In mathematics, nothing should be left to the interpretation of the reader, especially if the reader grades your work. It is highly unusual for an additional rule to be needed. \n",
    "\n",
    "<div class=\"alert alert-block alert-info\">\n",
    "    <b>Tip:</b> Always check the consistency of your equations. Mentally eliminate all indices that repeat twice (implicit summation, rule 2) and confirm that each term contains the same indices that show only once in each term.\n",
    "    </div>\n",
    "\n",
    "Therefore $a_{ii}=b_{jj}$ and $a_{iik}=b_{jjk}$ are both well-defined. In the first equation, each term simplifies to a scalar; the traces of tensors $a$ and $b$ are equal.\n",
    "\n",
    "There are two tensors that are important to remember:\n",
    "* The Kronecker tensor:\n",
    "<div class=\"alert alert-block alert-danger\">\n",
    "    $$\n",
    "    \\delta_{ij}=\\begin{cases}1 &\\mathrm{if}\\;i=j\\\\0 &\\mathrm{if}\\;i\\neq j\\end{cases}\n",
    "    $$\n",
    "    </div>\n",
    "* The permutation tensor (in 3D):\n",
    "<div class=\"alert alert-block alert-danger\">\n",
    "    $$\n",
    "    \\varepsilon_{ijk}=\\begin{cases}+1 &\\mathrm{if}\\;(i,j,k)\\;\\mathrm{is}\\;(1,2,3),\\;(2,3,1),\\;\\mathrm{or}\\;(3,1,2)\\\\-1 &\\mathrm{if}\\;(i,j,k)\\;\\mathrm{is}\\;(1,3,2),\\;(2,1,3),\\;\\mathrm{or}\\;(3,2,1)\\\\0 &\\mathrm{if}\\;i=j\\;\\mathrm{or}\\;i=k\\;\\mathrm{or}\\;j=k\\end{cases}\n",
    "    $$\n",
    "    </div>"
   ]
  },
  {
   "cell_type": "markdown",
   "metadata": {},
   "source": [
    "## Definition of the main equation types in fluid dynamics\n",
    "\n",
    "The study of turbulence requires a solid understanding of the connection between equations and physics. But first, we should define some basic notations:\n",
    "* $\\partial_t$ is the partial derivative in time.\n",
    "* $\\partial_i$ is the partial derivative in space along direction $i$.\n",
    "* $x_i$ is the vector position in space. Directions $(1,2,3)$ are $(x,y,z)$.\n",
    "* $u_i$ is the local (in time and space) fluid velocity vector. $u_i=\\vec{u}(x_1,x_2,x_3,t)$.\n",
    "* $p$ is the local (in time and space) fluid pressure.\n",
    "* $\\theta$ is the local (in time and space) fluid temperature.\n",
    "* $\\rho,\\; \\mu,\\; \\nu,\\;\\kappa,\\;\\alpha,\\; C_p$, are the local thermodynamic properties of the fluid, density, dynamic viscosity, kinematic viscosity, thermal conductivity, thermal diffusivity and specific heat, respectively. Remember that $\\nu=\\mu/\\rho$ and $\\alpha=\\kappa/(\\rho C_p)$.\n",
    "* $\\partial_i u_i$ is, by virtue of Rule 2 of Einstein notation, the divergence of vector $u_i$.\n",
    "* $\\partial_k p$ is the gradient of $p$.\n",
    "* $\\omega_k = \\varepsilon_{ijk}\\partial_iu_j$ is the curl of vector $\\vec{u}$, or vorticity vector.\n",
    "* $S_{ij}=\\frac{1}{2}(\\partial_iu_j+\\partial_iu_j)$ is the strain rate tensor.\n",
    "* $\\Omega_{ij}=\\frac{1}{2}(\\partial_iu_j-\\partial_iu_j)$ is the rotation rate tensor.\n",
    "\n",
    "Using python we can explore the physics of different equations. Note that the method of derivativation used here is not explained at this stage of the course, however because of the method employed the domain must be periodic.\n"
   ]
  },
  {
   "cell_type": "code",
   "execution_count": 1,
   "metadata": {},
   "outputs": [],
   "source": [
    "import numpy as np\n",
    "import matplotlib.pyplot as plt\n"
   ]
  },
  {
   "cell_type": "code",
   "execution_count": 9,
   "metadata": {},
   "outputs": [],
   "source": [
    "\"\"\"\n",
    "Critical functions, do not modify unless you know what you are doing\n",
    "\"\"\"\n",
    "def init_domain(N,L):\n",
    "    dx = L/N\n",
    "    x = np.arange(0.0, L, L/float(N))\n",
    "    if N % 2 == 0:\n",
    "        k = np.asarray(range(0, N // 2))\n",
    "        k = np.append(k,0)\n",
    "        k = np.append(k,range(-N // 2 + 1,0))*2 * np.pi / L\n",
    "    else:\n",
    "        k = np.asarray(range(0,(N - 1) // 2))\n",
    "        k = np.append(k,0)\n",
    "        k = np.real(np.append(k,range(-(N - 1) // 2, 0)))*2 * np.pi / L\n",
    "\n",
    "    return x,k,dx\n",
    "def der_x(u,k):\n",
    "    return np.real(np.fft.ifft(1.0j * k * np.fft.fft(u)))\n",
    "def advection(c,u,k):\n",
    "    return -c*der_x(u,k)\n",
    "\n",
    "def time_advancement_nonlinear_pure_advection(u0,T,dt_fixed,k,dx):\n",
    "    t = 0\n",
    "    CFL = 0.1\n",
    "    u = np.copy(u0)\n",
    "    while t < T :\n",
    "        dt_cfl = CFL * dx / np.amax(u)\n",
    "        dt = np.amin([dt_cfl,dt_fixed])\n",
    "        if t + dt > T:\n",
    "            dt = T - t\n",
    "#         print(dt)\n",
    "        uold = np.copy(u)\n",
    "        # step 1\n",
    "        u += (dt/2) * advection(uold,uold,k)\n",
    "        #step 2\n",
    "        u = uold + dt * advection(u,u,k)\n",
    "        t += dt\n",
    "    return u\n",
    "\n",
    "def time_advancement_linear_pure_advection(c,u0,T,dt_fixed,k,dx):\n",
    "    t = 0\n",
    "    CFL = 0.1\n",
    "    u = np.copy(u0)\n",
    "    while t < T :\n",
    "        dt_cfl = CFL * dx / np.amax(c)\n",
    "        dt = np.amin([dt_cfl,dt_fixed])\n",
    "        if t + dt > T:\n",
    "            dt = T - t\n",
    "        uold = np.copy(u)\n",
    "        # step 1\n",
    "        u += (dt/2) * advection(c,uold,k)\n",
    "        #step 2\n",
    "        u = uold + dt * advection(c,u,k)\n",
    "        t += dt\n",
    "    return u\n",
    "    "
   ]
  },
  {
   "cell_type": "markdown",
   "metadata": {},
   "source": [
    "### Coherent (or deterministic) structure\n",
    "A basic coherent structure of physics is the wave, characterized by three parameters:\n",
    "* amplitude $A$ (velocity scale of the structure)\n",
    "* wavelength $k$, not to be confused with the index $k$ (inverse of the length scale of structure)\n",
    "* phase $\\phi$\n",
    "or \n",
    "$$\n",
    "u=A\\cos(kx+\\phi)\n",
    "$$\n",
    "\n",
    "Throughout this notebook we explore how basic structures are affected by different equations\n",
    "### Pure advection at constant speed\n",
    "\n",
    "The first basic type of equation is the <b>transport</b> equation, which transports a quantity with the flow. Starting with a flow of constant velocity $c$, the most basic transport equation of scalar $u$ in 1D reads:\n",
    "$$\n",
    "\\partial_tu+c\\partial_1u = 0\n",
    "$$\n",
    "\n",
    "Use the following code to verify that a basic wave as initial condition\n",
    "$$\n",
    "u(x,t=0)=A\\cos(kx+\\phi)\n",
    "$$\n",
    "is convected with no loss of amplitude, no modification of wavelength and phase. The exact solution of this transport equation is\n",
    "$$\n",
    "u(x,t)=A\\cos(k(x-ct)+\\phi)\n",
    "$$\n",
    "\n",
    "\n",
    "\n"
   ]
  },
  {
   "cell_type": "code",
   "execution_count": 6,
   "metadata": {},
   "outputs": [
    {
     "data": {
      "image/png": "[encoded data removed]",
      "text/plain": [
       "<Figure size 432x288 with 1 Axes>"
      ]
     },
     "metadata": {
      "needs_background": "light"
     },
     "output_type": "display_data"
    }
   ],
   "source": [
    "def u_exact(t,x,c,A,k,phi):\n",
    "    return A*np.cos(k*(x-t*c)+phi)\n",
    "L = 2*np.pi\n",
    "N = 256\n",
    "A = 1.\n",
    "k = 1.\n",
    "phi = 0\n",
    "# constant flow velocity\n",
    "c0 = 2.*np.pi\n",
    "dt = 0.001\n",
    "T = 1\n",
    "x,kx,dx = init_domain(N,L)\n",
    "c = c0*np.ones_like(x)\n",
    "u0 = u_exact(0.,x,c,A,k,phi)\n",
    "uTexact = u_exact(T,x,c,A,k,phi)\n",
    "u = np.zeros_like(x)\n",
    "u = time_advancement_linear_pure_advection(c,u0,T,dt,kx,dx)\n",
    "plt.figure()\n",
    "plt.plot(x,u0,lw = 3,label=\"$u(0)$\")\n",
    "plt.plot(x,u,'--',lw = 3,label=\"$u(T)$\")\n",
    "plt.plot(x,u,'-',lw = 1,label=\"$u(T) exact$\")\n",
    "plt.legend()\n",
    "plt.show()"
   ]
  },
  {
   "cell_type": "markdown",
   "metadata": {},
   "source": [
    "### A very useful tool\n",
    "\n",
    "Fourier series are ideal to study waves. For a given spatial distribution of velocity $u(x)$, its Fourier series is \n",
    "$$\n",
    "u(x)=a_0+\\sum_{k=1}^\\infty\\left[a_k\\cos\\left(\\frac{2\\pi k}{L}x\\right)+b_k\\sin\\left(\\frac{2\\pi k}{L}x\\right)\\right]\n",
    "$$\n",
    "where\n",
    "\\begin{eqnarray}\n",
    "a_0 &= \\int_0^Lu(x)dx \\\\\n",
    "a_k &= \\frac{2}{L}\\int_{-L/2}^{+L/2}u(x)\\cos\\left(\\frac{2\\pi k}{L}x\\right)dx\\\\\n",
    "b_k &= \\frac{2}{L}\\int_{-L/2}^{+L/2}u(x)\\sin\\left(\\frac{2\\pi k}{L}x\\right)dx\\\\\n",
    "\\end{eqnarray}\n",
    "\n",
    "In numpy, the function fft (Fast Fourier Transform) can be used to obtained the coefficients in the form of complex numbers for $N/2+1$ wavenumbers $k_i$, $a_i$ being the real coefficients and $b_i$ the imaginary coefficients.\n",
    "\n",
    "The amplitude of the wave for the structure of wavenumber $k$ is\n",
    "$$\n",
    "A_k=\\sqrt{a_k^2+b_k^2}\n",
    "$$\n",
    "and the phase is\n",
    "$$\n",
    "\\phi_k =\\arctan\\frac{b_k}{a_k}\n",
    "$$\n",
    "\n",
    "In the case above"
   ]
  },
  {
   "cell_type": "code",
   "execution_count": 7,
   "metadata": {
    "scrolled": true
   },
   "outputs": [
    {
     "data": {
      "image/png": "[encoded data removed]",
      "text/plain": [
       "<Figure size 432x288 with 1 Axes>"
      ]
     },
     "metadata": {
      "needs_background": "light"
     },
     "output_type": "display_data"
    }
   ],
   "source": [
    "Fu = np.fft.fft(uTexact)/(N//2)\n",
    "plt.plot(kx[0:N//2],np.real(Fu[0:N//2]),'o',label=\"$a_k$\")\n",
    "plt.plot(kx[0:N//2],np.imag(Fu[0:N//2]),'o',label=\"$b_k$\")\n",
    "plt.xlabel(\"$k$\")\n",
    "plt.legend()\n",
    "plt.show()"
   ]
  },
  {
   "cell_type": "markdown",
   "metadata": {},
   "source": [
    "$$\n",
    "f(x+h)=f(x)+hf'(x)+\\frac{h^2}{2}f''(x)+\\frac{h^3}{3!}f'''(x)+\\sum_{i=4}^\\infty\\frac{h^i}{i!}f^{(i)}(x)\n",
    "$$"
   ]
  },
  {
   "cell_type": "markdown",
   "metadata": {},
   "source": [
    "### Pure advection with nonlinear term\n",
    "\n",
    "A model equation that is closer to the Navier Stokes equation reads\n",
    "$$\n",
    "\\partial_tu +u\\partial_xu=0\n",
    "$$\n",
    "\n",
    "Using our initial condition and a Taylor series between $t=0$ and $t=\\Delta t$ yields\n",
    "\\begin{eqnarray}\n",
    "u(x,\\Delta t)&=&u(x,0)+\\Delta t\\,\\partial_t u(x,0)+\\mathcal{O}(\\Delta t^2)\\\\\n",
    "    &=&A\\cos(kx)-\\Delta t\\,u(x,0)\\partial_xu(x,0)+\\mathcal{O}(\\Delta t^2)\\\\\n",
    "    &=&A\\cos(kx)+\\Delta t\\,A^2k\\cos(kx)\\sin(kx)+\\mathcal{O}(\\Delta t^2)\\\\\n",
    "    &=&A\\cos(kx)+\\Delta t\\,\\frac{A^2k}{2}\\sin{2kx}+\\mathcal{O}(\\Delta t^2)\\\\\n",
    "\\end{eqnarray}\n",
    "In advancing the solution in time by one time step, a new wavelength, twice the initial one or with a length half of the initial length, emerges with an amplitude $\\Delta t\\,A^2k/2$.\n",
    "\n",
    "Run the following code with different simulation times $T$. The last plot, in log-log, is the spectrum of $u(x,T)$. It gives the amplitude of each wave. You should see that the longer the simulation runs, the more small scales emerge.\n",
    "\n",
    "Also observe that as small scales build up, the maximum gradient of $u(x,T)$ increases.\n",
    "\n",
    "<div class=\"alert alert-block alert-danger\">\n",
    "    The nonlinear term causes the smaller and smaller scales as time goes. Only viscous dissipation can halt the build up. \n",
    "    </div>\n"
   ]
  },
  {
   "cell_type": "code",
   "execution_count": 16,
   "metadata": {},
   "outputs": [
    {
     "data": {
      "image/png": "[encoded data removed]",
      "text/plain": [
       "<Figure size 432x288 with 1 Axes>"
      ]
     },
     "metadata": {
      "needs_background": "light"
     },
     "output_type": "display_data"
    },
    {
     "data": {
      "image/png": "[encoded data removed]",
      "text/plain": [
       "<Figure size 432x288 with 1 Axes>"
      ]
     },
     "metadata": {
      "needs_background": "light"
     },
     "output_type": "display_data"
    }
   ],
   "source": [
    "L = 2*np.pi\n",
    "N=256\n",
    "dt = 0.001\n",
    "T = 1\n",
    "A = 1.\n",
    "k = 1.\n",
    "phi = 0\n",
    "x,kx,dx = init_domain(N,L)\n",
    "u0 = u_exact(0.,x,c,A,k,phi)\n",
    "u = time_advancement_nonlinear_pure_advection(u0,T,dt,kx,dx)\n",
    "plt.figure()\n",
    "plt.plot(x,u0,lw = 2,label=\"$u(0)$\")\n",
    "plt.plot(x,u,lw = 2,label=\"$u(T)$\")\n",
    "plt.legend()\n",
    "plt.xlabel(\"$x$\")\n",
    "plt.show()\n",
    "\n",
    "Fu = np.fft.fft(u)/(N//2)\n",
    "Ak = np.sqrt(np.real(Fu[0:N//2])**2+np.imag(Fu[0:N//2])**2)\n",
    "plt.loglog(kx[0:N//2],Ak,lw=3,label=\"$A_k$\")\n",
    "plt.xlabel(\"$k$\")\n",
    "plt.grid(True)\n",
    "plt.legend()\n",
    "plt.show()"
   ]
  },
  {
   "cell_type": "code",
   "execution_count": null,
   "metadata": {},
   "outputs": [],
   "source": []
  },
  {
   "cell_type": "code",
   "execution_count": null,
   "metadata": {},
   "outputs": [],
   "source": [
    "du_x"
   ]
  },
  {
   "cell_type": "code",
   "execution_count": null,
   "metadata": {},
   "outputs": [],
   "source": [
    "du"
   ]
  },
  {
   "cell_type": "code",
   "execution_count": null,
   "metadata": {},
   "outputs": [],
   "source": [
    "plt.plot(x,du-du_x)\n",
    "plt.show()"
   ]
  },
  {
   "cell_type": "code",
   "execution_count": null,
   "metadata": {},
   "outputs": [],
   "source": []
  }
 ],
 "metadata": {
  "kernelspec": {
   "display_name": "Python 3",
   "language": "python",
   "name": "python3"
  },
  "language_info": {
   "codemirror_mode": {
    "name": "ipython",
    "version": 3
   },
   "file_extension": ".py",
   "mimetype": "text/x-python",
   "name": "python",
   "nbconvert_exporter": "python",
   "pygments_lexer": "ipython3",
   "version": "3.7.6"
  }
 },
 "nbformat": 4,
 "nbformat_minor": 4
}
